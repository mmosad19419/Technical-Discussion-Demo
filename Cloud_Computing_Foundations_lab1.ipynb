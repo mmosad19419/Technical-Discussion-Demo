{
  "nbformat": 4,
  "nbformat_minor": 0,
  "metadata": {
    "colab": {
      "provenance": [],
      "authorship_tag": "ABX9TyN9rwZ3sPolOnNxEKoCn/S/",
      "include_colab_link": true
    },
    "kernelspec": {
      "name": "python3",
      "display_name": "Python 3"
    },
    "language_info": {
      "name": "python"
    }
  },
  "cells": [
    {
      "cell_type": "markdown",
      "metadata": {
        "id": "view-in-github",
        "colab_type": "text"
      },
      "source": [
        "<a href=\"https://colab.research.google.com/github/mmosad19419/Technical-Discussion-Demo/blob/main/Cloud_Computing_Foundations_lab1.ipynb\" target=\"_parent\"><img src=\"https://colab.research.google.com/assets/colab-badge.svg\" alt=\"Open In Colab\"/></a>"
      ]
    },
    {
      "cell_type": "markdown",
      "source": [
        "### Lab 2"
      ],
      "metadata": {
        "id": "AUDxnJU9ToAb"
      }
    },
    {
      "cell_type": "code",
      "source": [
        "print(\"Hello World\")"
      ],
      "metadata": {
        "colab": {
          "base_uri": "https://localhost:8080/"
        },
        "id": "b8mR9Jh3UAN5",
        "outputId": "4c28aefe-762b-4c68-e8d9-8f4c4f3f51c9"
      },
      "execution_count": 2,
      "outputs": [
        {
          "output_type": "stream",
          "name": "stdout",
          "text": [
            "Hello World\n"
          ]
        }
      ]
    },
    {
      "cell_type": "markdown",
      "source": [
        "# Headings\n",
        "### Headings\n",
        "###### Headings\n",
        "\n",
        "[link](www.google.com)\n",
        "\n",
        "list:\n",
        "1. One\n",
        "2. Two\n",
        "   - Nested item one\n",
        "   - Nested Item Two"
      ],
      "metadata": {
        "id": "2Nd_ZygNW2ZR"
      }
    },
    {
      "cell_type": "code",
      "source": [
        "print(\"lab Completed\")"
      ],
      "metadata": {
        "colab": {
          "base_uri": "https://localhost:8080/"
        },
        "id": "DMOej0w4WS5G",
        "outputId": "4910170e-b0e7-49a6-881c-24045d548193"
      },
      "execution_count": 4,
      "outputs": [
        {
          "output_type": "stream",
          "name": "stdout",
          "text": [
            "lab Completed\n"
          ]
        }
      ]
    }
  ]
}